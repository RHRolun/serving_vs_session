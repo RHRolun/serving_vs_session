{
 "cells": [
  {
   "cell_type": "code",
   "execution_count": 1,
   "id": "47c3edf7-3f1e-4591-a3b0-dc1b170095d1",
   "metadata": {},
   "outputs": [
    {
     "name": "stdout",
     "output_type": "stream",
     "text": [
      "Requirement already satisfied: onnxruntime==1.16.0 in /opt/app-root/lib/python3.9/site-packages (1.16.0)\n",
      "Requirement already satisfied: coloredlogs in /opt/app-root/lib/python3.9/site-packages (from onnxruntime==1.16.0) (15.0.1)\n",
      "Requirement already satisfied: packaging in /opt/app-root/lib/python3.9/site-packages (from onnxruntime==1.16.0) (23.2)\n",
      "Requirement already satisfied: protobuf in /opt/app-root/lib/python3.9/site-packages (from onnxruntime==1.16.0) (3.20.3)\n",
      "Requirement already satisfied: numpy>=1.21.6 in /opt/app-root/lib/python3.9/site-packages (from onnxruntime==1.16.0) (1.24.3)\n",
      "Requirement already satisfied: sympy in /opt/app-root/lib/python3.9/site-packages (from onnxruntime==1.16.0) (1.12)\n",
      "Requirement already satisfied: flatbuffers in /opt/app-root/lib/python3.9/site-packages (from onnxruntime==1.16.0) (23.5.26)\n",
      "Requirement already satisfied: humanfriendly>=9.1 in /opt/app-root/lib/python3.9/site-packages (from coloredlogs->onnxruntime==1.16.0) (10.0)\n",
      "Requirement already satisfied: mpmath>=0.19 in /opt/app-root/lib/python3.9/site-packages (from sympy->onnxruntime==1.16.0) (1.3.0)\n",
      "\n",
      "\u001b[1m[\u001b[0m\u001b[34;49mnotice\u001b[0m\u001b[1;39;49m]\u001b[0m\u001b[39;49m A new release of pip available: \u001b[0m\u001b[31;49m22.2.2\u001b[0m\u001b[39;49m -> \u001b[0m\u001b[32;49m24.0\u001b[0m\n",
      "\u001b[1m[\u001b[0m\u001b[34;49mnotice\u001b[0m\u001b[1;39;49m]\u001b[0m\u001b[39;49m To update, run: \u001b[0m\u001b[32;49mpip install --upgrade pip\u001b[0m\n",
      "Requirement already satisfied: opencv-python==4.8.1.78 in /opt/app-root/lib/python3.9/site-packages (4.8.1.78)\n",
      "Requirement already satisfied: numpy>=1.19.3 in /opt/app-root/lib/python3.9/site-packages (from opencv-python==4.8.1.78) (1.24.3)\n",
      "\n",
      "\u001b[1m[\u001b[0m\u001b[34;49mnotice\u001b[0m\u001b[1;39;49m]\u001b[0m\u001b[39;49m A new release of pip available: \u001b[0m\u001b[31;49m22.2.2\u001b[0m\u001b[39;49m -> \u001b[0m\u001b[32;49m24.0\u001b[0m\n",
      "\u001b[1m[\u001b[0m\u001b[34;49mnotice\u001b[0m\u001b[1;39;49m]\u001b[0m\u001b[39;49m To update, run: \u001b[0m\u001b[32;49mpip install --upgrade pip\u001b[0m\n"
     ]
    }
   ],
   "source": [
    "!pip install onnxruntime==1.16.0\n",
    "!pip install opencv-python==4.8.1.78"
   ]
  },
  {
   "cell_type": "code",
   "execution_count": 2,
   "id": "f836360f-84ad-4cb5-837f-41bcd022e04d",
   "metadata": {},
   "outputs": [],
   "source": [
    "import os\n",
    "import cv2\n",
    "from matplotlib import pyplot as plt\n",
    "from PIL import Image\n",
    "import numpy as np\n",
    "import onnxruntime as rt"
   ]
  },
  {
   "cell_type": "code",
   "execution_count": 3,
   "id": "3ffcde19-4f54-473c-a24a-be53e5ae9919",
   "metadata": {},
   "outputs": [],
   "source": [
    "#import remote_infer as ri\n",
    "import remote_infer_changed_preprocessing as ri"
   ]
  },
  {
   "cell_type": "code",
   "execution_count": 4,
   "id": "60f99747-d7d6-42ca-be82-ad92f51e96bc",
   "metadata": {},
   "outputs": [],
   "source": [
    "image_path = 'images/carImage3.jpg' # You can replace this with an image you upload"
   ]
  },
  {
   "cell_type": "code",
   "execution_count": 5,
   "id": "89939f15-f74e-49d2-b131-02f5a70b50f1",
   "metadata": {
    "tags": []
   },
   "outputs": [],
   "source": [
    "preprocessed, scale, original_image = ri.preprocess(image_path)"
   ]
  },
  {
   "cell_type": "markdown",
   "id": "e5be0f0e-c863-4a55-b8dd-2fc1c71e0a3d",
   "metadata": {},
   "source": [
    "# Serving"
   ]
  },
  {
   "cell_type": "code",
   "execution_count": 6,
   "id": "c2f3b9a5-f158-493c-ac5d-10154bae1974",
   "metadata": {
    "tags": []
   },
   "outputs": [],
   "source": [
    "infer_url = os.environ[\"INFER_ENDPOINT\"]\n",
    "\n",
    "response = ri.send_request(preprocessed, infer_url)"
   ]
  },
  {
   "cell_type": "code",
   "execution_count": 7,
   "id": "c054b10f-9453-4012-b57b-ed0a1d65501e",
   "metadata": {
    "tags": []
   },
   "outputs": [
    {
     "name": "stdout",
     "output_type": "stream",
     "text": [
      "(8400, 6)\n",
      "[[7.25182250e+00 1.59619200e+01 1.59490360e+01 3.18928570e+01\n",
      "  2.77792900e-06 8.99698350e-06]\n",
      " [2.54508700e+01 1.32270820e+01 5.91368030e+01 2.61576290e+01\n",
      "  1.19057480e-06 9.94917500e-06]\n",
      " [1.81783560e+01 1.16864980e+01 4.00377120e+01 2.24915900e+01\n",
      "  3.50209300e-07 4.00328800e-06]\n",
      " ...\n",
      " [5.63258540e+02 6.07380500e+02 1.35587590e+02 6.58579100e+01\n",
      "  2.88683740e-06 3.79249760e-06]\n",
      " [5.84164300e+02 5.98486000e+02 1.04063416e+02 8.50695800e+01\n",
      "  2.83189700e-06 3.47373320e-06]\n",
      " [6.00892500e+02 5.86694700e+02 9.20753200e+01 1.19198730e+02\n",
      "  4.63818740e-06 7.07730670e-06]]\n"
     ]
    }
   ],
   "source": [
    "response_transposed = cv2.transpose(response[0].squeeze())\n",
    "print(response_transposed.shape)\n",
    "print(response_transposed)"
   ]
  },
  {
   "cell_type": "markdown",
   "id": "1d4101de-1b22-421f-9e51-17d2a02a8430",
   "metadata": {},
   "source": [
    "# Session"
   ]
  },
  {
   "cell_type": "code",
   "execution_count": 8,
   "id": "94a2c4d2-8579-47d9-80d3-0f6112cfee73",
   "metadata": {
    "tags": []
   },
   "outputs": [],
   "source": [
    "sess = rt.InferenceSession(\"accident_detect.onnx\", providers=rt.get_available_providers())\n",
    "input_name = sess.get_inputs()[0].name\n",
    "output_name = sess.get_outputs()[0].name"
   ]
  },
  {
   "cell_type": "code",
   "execution_count": 9,
   "id": "351e4e43-49f3-4f10-8ebe-2aa683487430",
   "metadata": {
    "tags": []
   },
   "outputs": [],
   "source": [
    "sess_prediction = sess.run([output_name], {input_name: preprocessed.tolist()})"
   ]
  },
  {
   "cell_type": "code",
   "execution_count": 10,
   "id": "e6fedafc-9dcb-448c-9dd0-0f1ff861f65b",
   "metadata": {
    "tags": []
   },
   "outputs": [
    {
     "name": "stdout",
     "output_type": "stream",
     "text": [
      "(8400, 6)\n",
      "[[7.2518239e+00 1.5961920e+01 1.5949042e+01 3.1892857e+01 2.7716160e-06\n",
      "  8.9406967e-06]\n",
      " [2.5450851e+01 1.3227080e+01 5.9136772e+01 2.6157629e+01 1.1920929e-06\n",
      "  9.8943710e-06]\n",
      " [1.8178358e+01 1.1686497e+01 4.0037716e+01 2.2491585e+01 3.5762787e-07\n",
      "  3.9339066e-06]\n",
      " ...\n",
      " [5.6325854e+02 6.0738049e+02 1.3558755e+02 6.5857849e+01 2.8610229e-06\n",
      "  3.8146973e-06]\n",
      " [5.8416425e+02 5.9848602e+02 1.0406348e+02 8.5069580e+01 2.8312206e-06\n",
      "  3.4272671e-06]\n",
      " [6.0089258e+02 5.8669470e+02 9.2075378e+01 1.1919873e+02 4.6193600e-06\n",
      "  7.0631504e-06]]\n"
     ]
    }
   ],
   "source": [
    "sess_prediction_transposed = cv2.transpose(sess_prediction[0].squeeze())\n",
    "print(sess_prediction_transposed.shape)\n",
    "print(sess_prediction_transposed)"
   ]
  },
  {
   "cell_type": "markdown",
   "id": "2f6d5804-bae0-4ddf-8ca3-3638e736a8fb",
   "metadata": {},
   "source": [
    "# Compare them"
   ]
  },
  {
   "cell_type": "code",
   "execution_count": 11,
   "id": "5a91f3b1-67d9-41ee-af5f-ef0dc6b35f83",
   "metadata": {
    "tags": []
   },
   "outputs": [
    {
     "name": "stdout",
     "output_type": "stream",
     "text": [
      "Row 0:\n",
      "  Col 0: 7.2518225 (rest_prediction) vs 7.251823902130127 (sess_prediction) - Difference:  1.4021301266708974e-06\n",
      "  Col 1: 15.96192 (rest_prediction) vs 15.961919784545898 (sess_prediction) - Difference:  2.154541007826083e-07\n",
      "  Col 2: 15.949036 (rest_prediction) vs 15.949042320251465 (sess_prediction) - Difference:  6.320251465297133e-06\n",
      "  Col 3: 31.892857 (rest_prediction) vs 31.89285659790039 (sess_prediction) - Difference:  4.0209960872061856e-07\n",
      "  Col 4: 2.777929e-06 (rest_prediction) vs 2.771615982055664e-06 (sess_prediction) - Difference:  6.313017944335798e-09\n",
      "  Col 5: 8.9969835e-06 (rest_prediction) vs 8.940696716308594e-06 (sess_prediction) - Difference:  5.628678369140654e-08\n",
      "Row 1:\n",
      "  Col 0: 25.45087 (rest_prediction) vs 25.450851440429688 (sess_prediction) - Difference:  1.8559570310827667e-05\n",
      "  Col 1: 13.227082 (rest_prediction) vs 13.227080345153809 (sess_prediction) - Difference:  1.6548461907461842e-06\n",
      "  Col 2: 59.136803 (rest_prediction) vs 59.13677215576172 (sess_prediction) - Difference:  3.084423828170202e-05\n",
      "  Col 3: 26.157629 (rest_prediction) vs 26.157629013061523 (sess_prediction) - Difference:  1.3061523418400611e-08\n",
      "  Col 4: 1.1905748e-06 (rest_prediction) vs 1.1920928955078125e-06 (sess_prediction) - Difference:  1.5180955078125585e-09\n",
      "  Col 5: 9.949175e-06 (rest_prediction) vs 9.894371032714844e-06 (sess_prediction) - Difference:  5.480396728515574e-08\n",
      "Row 2:\n",
      "  Col 0: 18.178356 (rest_prediction) vs 18.17835807800293 (sess_prediction) - Difference:  2.0780029288403057e-06\n",
      "  Col 1: 11.686498 (rest_prediction) vs 11.68649673461914 (sess_prediction) - Difference:  1.2653808596496674e-06\n",
      "  Col 2: 40.037712 (rest_prediction) vs 40.037715911865234 (sess_prediction) - Difference:  3.911865235295409e-06\n",
      "  Col 3: 22.49159 (rest_prediction) vs 22.49158477783203 (sess_prediction) - Difference:  5.2221679673891686e-06\n",
      "  Col 4: 3.502093e-07 (rest_prediction) vs 3.5762786865234375e-07 (sess_prediction) - Difference:  7.418568652343738e-09\n",
      "  Col 5: 4.003288e-06 (rest_prediction) vs 3.933906555175781e-06 (sess_prediction) - Difference:  6.93814448242187e-08\n",
      "Row 3:\n",
      "  Col 0: 26.905014 (rest_prediction) vs 26.905027389526367 (sess_prediction) - Difference:  1.3389526365870097e-05\n",
      "  Col 1: 12.027281 (rest_prediction) vs 12.027275085449219 (sess_prediction) - Difference:  5.914550781582761e-06\n",
      "  Col 2: 52.395493 (rest_prediction) vs 52.395511627197266 (sess_prediction) - Difference:  1.862719726375417e-05\n",
      "  Col 3: 23.819248 (rest_prediction) vs 23.81924057006836 (sess_prediction) - Difference:  7.429931642377596e-06\n",
      "  Col 4: 3.374797e-07 (rest_prediction) vs 3.2782554626464844e-07 (sess_prediction) - Difference:  9.654153735351561e-09\n",
      "  Col 5: 4.6814175e-06 (rest_prediction) vs 4.678964614868164e-06 (sess_prediction) - Difference:  2.452885131836081e-09\n",
      "Row 4:\n",
      "  Col 0: 50.76188 (rest_prediction) vs 50.76189041137695 (sess_prediction) - Difference:  1.0411376955232754e-05\n",
      "  Col 1: 11.393678 (rest_prediction) vs 11.393672943115234 (sess_prediction) - Difference:  5.056884765153313e-06\n",
      "  Col 2: 109.43291 (rest_prediction) vs 109.43292999267578 (sess_prediction) - Difference:  1.9992675774460622e-05\n",
      "  Col 3: 22.714525 (rest_prediction) vs 22.714519500732422 (sess_prediction) - Difference:  5.499267576425382e-06\n",
      "  Col 4: 1.0910605e-06 (rest_prediction) vs 1.1026859283447266e-06 (sess_prediction) - Difference:  1.1625428344726465e-08\n",
      "  Col 5: 7.829481e-06 (rest_prediction) vs 7.867813110351562e-06 (sess_prediction) - Difference:  3.8332110351562643e-08\n"
     ]
    }
   ],
   "source": [
    "def compare_2d_arrays(arr1, arr2):\n",
    "    # Ensure arr1 and arr2 have the same shape\n",
    "    if arr1.shape != arr2.shape:\n",
    "        raise ValueError(\"Arrays must have the same shape\")\n",
    "    \n",
    "    differences = []  # List to store differences for each row\n",
    "    \n",
    "    # Iterate over each row\n",
    "    for row_idx in range(arr1.shape[0]):\n",
    "        row_differences = []  # Differences for the current row\n",
    "        for col_idx in range(arr1.shape[1]):\n",
    "            item1 = arr1[row_idx, col_idx]\n",
    "            item2 = arr2[row_idx, col_idx]\n",
    "            diff = abs(item1 - item2)  # Calculate the absolute difference\n",
    "            row_differences.append((col_idx, item1, item2, diff))\n",
    "        \n",
    "        differences.append(row_differences)\n",
    "    \n",
    "    return differences\n",
    "\n",
    "# Comparing the arrays\n",
    "differences = compare_2d_arrays(response_transposed, sess_prediction_transposed)\n",
    "\n",
    "# Optionally, print the results for the first few rows to check\n",
    "for row_idx, row_diff in enumerate(differences[:5]):  # Just as an example, print differences for the first 5 rows\n",
    "    print(f\"Row {row_idx}:\")\n",
    "    for diff in row_diff:\n",
    "        print(f\"  Col {diff[0]}: {diff[1]} (rest_prediction) vs {diff[2]} (sess_prediction) - Difference:  {diff[3]}\")\n"
   ]
  },
  {
   "cell_type": "code",
   "execution_count": null,
   "id": "c17cbae9-3411-449a-802d-e6c5f690ebc9",
   "metadata": {},
   "outputs": [],
   "source": []
  }
 ],
 "metadata": {
  "kernelspec": {
   "display_name": "Python 3.9",
   "language": "python",
   "name": "python3"
  },
  "language_info": {
   "codemirror_mode": {
    "name": "ipython",
    "version": 3
   },
   "file_extension": ".py",
   "mimetype": "text/x-python",
   "name": "python",
   "nbconvert_exporter": "python",
   "pygments_lexer": "ipython3",
   "version": "3.9.18"
  }
 },
 "nbformat": 4,
 "nbformat_minor": 5
}
