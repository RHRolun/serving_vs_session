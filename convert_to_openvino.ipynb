{
 "cells": [
  {
   "cell_type": "code",
   "execution_count": 1,
   "id": "a24a300a-191c-46d7-a2bb-a836be8c6741",
   "metadata": {},
   "outputs": [
    {
     "name": "stdout",
     "output_type": "stream",
     "text": [
      "\n",
      "\u001b[1m[\u001b[0m\u001b[34;49mnotice\u001b[0m\u001b[1;39;49m]\u001b[0m\u001b[39;49m A new release of pip available: \u001b[0m\u001b[31;49m22.2.2\u001b[0m\u001b[39;49m -> \u001b[0m\u001b[32;49m24.0\u001b[0m\n",
      "\u001b[1m[\u001b[0m\u001b[34;49mnotice\u001b[0m\u001b[1;39;49m]\u001b[0m\u001b[39;49m To update, run: \u001b[0m\u001b[32;49mpip install --upgrade pip\u001b[0m\n"
     ]
    }
   ],
   "source": [
    "!pip install -q \"openvino>=2023.1.0\" onnx"
   ]
  },
  {
   "cell_type": "code",
   "execution_count": 3,
   "id": "a4b97280-0c64-48a6-92eb-3ce3ba6750e5",
   "metadata": {
    "tags": []
   },
   "outputs": [],
   "source": [
    "import time\n",
    "import warnings\n",
    "from pathlib import Path\n",
    "\n",
    "import cv2\n",
    "import numpy as np\n",
    "import openvino as ov\n",
    "\n",
    "# Fetch `notebook_utils` module\n",
    "import urllib.request\n",
    "urllib.request.urlretrieve(\n",
    "    url='https://raw.githubusercontent.com/openvinotoolkit/openvino_notebooks/main/notebooks/utils/notebook_utils.py',\n",
    "    filename='notebook_utils.py'\n",
    ")\n",
    "\n",
    "from notebook_utils import segmentation_map_to_image, viz_result_image, SegmentationMap, Label, download_file"
   ]
  },
  {
   "cell_type": "code",
   "execution_count": 5,
   "id": "fb01d4e2-7b02-4198-a4fa-bd38001356b6",
   "metadata": {
    "tags": []
   },
   "outputs": [],
   "source": [
    "IMAGE_WIDTH = 640\n",
    "IMAGE_HEIGHT = 640\n",
    "\n",
    "# Paths where ONNX and OpenVINO IR models will be stored.\n",
    "onnx_path = \"accident_detect.onnx\"\n",
    "ir_path = \"ir_model/accident_detect.xml\""
   ]
  },
  {
   "cell_type": "code",
   "execution_count": 6,
   "id": "6377f063-cd87-40af-8444-d5f9204e8516",
   "metadata": {
    "tags": []
   },
   "outputs": [],
   "source": [
    "ov_model = ov.convert_model(onnx_path)\n",
    "ov.save_model(ov_model, ir_path)"
   ]
  }
 ],
 "metadata": {
  "kernelspec": {
   "display_name": "Python 3.9",
   "language": "python",
   "name": "python3"
  },
  "language_info": {
   "codemirror_mode": {
    "name": "ipython",
    "version": 3
   },
   "file_extension": ".py",
   "mimetype": "text/x-python",
   "name": "python",
   "nbconvert_exporter": "python",
   "pygments_lexer": "ipython3",
   "version": "3.9.18"
  }
 },
 "nbformat": 4,
 "nbformat_minor": 5
}
