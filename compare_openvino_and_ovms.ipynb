{
 "cells": [
  {
   "cell_type": "code",
   "execution_count": 1,
   "id": "47c3edf7-3f1e-4591-a3b0-dc1b170095d1",
   "metadata": {},
   "outputs": [
    {
     "name": "stdout",
     "output_type": "stream",
     "text": [
      "\n",
      "\u001b[1m[\u001b[0m\u001b[34;49mnotice\u001b[0m\u001b[1;39;49m]\u001b[0m\u001b[39;49m A new release of pip available: \u001b[0m\u001b[31;49m22.2.2\u001b[0m\u001b[39;49m -> \u001b[0m\u001b[32;49m24.0\u001b[0m\n",
      "\u001b[1m[\u001b[0m\u001b[34;49mnotice\u001b[0m\u001b[1;39;49m]\u001b[0m\u001b[39;49m To update, run: \u001b[0m\u001b[32;49mpip install --upgrade pip\u001b[0m\n",
      "Requirement already satisfied: opencv-python==4.8.1.78 in /opt/app-root/lib/python3.9/site-packages (4.8.1.78)\n",
      "Requirement already satisfied: numpy>=1.17.3 in /opt/app-root/lib/python3.9/site-packages (from opencv-python==4.8.1.78) (1.24.3)\n",
      "\n",
      "\u001b[1m[\u001b[0m\u001b[34;49mnotice\u001b[0m\u001b[1;39;49m]\u001b[0m\u001b[39;49m A new release of pip available: \u001b[0m\u001b[31;49m22.2.2\u001b[0m\u001b[39;49m -> \u001b[0m\u001b[32;49m24.0\u001b[0m\n",
      "\u001b[1m[\u001b[0m\u001b[34;49mnotice\u001b[0m\u001b[1;39;49m]\u001b[0m\u001b[39;49m To update, run: \u001b[0m\u001b[32;49mpip install --upgrade pip\u001b[0m\n",
      "Requirement already satisfied: onnxruntime==1.16.0 in /opt/app-root/lib/python3.9/site-packages (1.16.0)\n",
      "Requirement already satisfied: flatbuffers in /opt/app-root/lib/python3.9/site-packages (from onnxruntime==1.16.0) (23.5.26)\n",
      "Requirement already satisfied: protobuf in /opt/app-root/lib/python3.9/site-packages (from onnxruntime==1.16.0) (3.20.3)\n",
      "Requirement already satisfied: numpy>=1.21.6 in /opt/app-root/lib/python3.9/site-packages (from onnxruntime==1.16.0) (1.24.3)\n",
      "Requirement already satisfied: sympy in /opt/app-root/lib/python3.9/site-packages (from onnxruntime==1.16.0) (1.12)\n",
      "Requirement already satisfied: packaging in /opt/app-root/lib/python3.9/site-packages (from onnxruntime==1.16.0) (23.2)\n",
      "Requirement already satisfied: coloredlogs in /opt/app-root/lib/python3.9/site-packages (from onnxruntime==1.16.0) (15.0.1)\n",
      "Requirement already satisfied: humanfriendly>=9.1 in /opt/app-root/lib/python3.9/site-packages (from coloredlogs->onnxruntime==1.16.0) (10.0)\n",
      "Requirement already satisfied: mpmath>=0.19 in /opt/app-root/lib/python3.9/site-packages (from sympy->onnxruntime==1.16.0) (1.3.0)\n",
      "\n",
      "\u001b[1m[\u001b[0m\u001b[34;49mnotice\u001b[0m\u001b[1;39;49m]\u001b[0m\u001b[39;49m A new release of pip available: \u001b[0m\u001b[31;49m22.2.2\u001b[0m\u001b[39;49m -> \u001b[0m\u001b[32;49m24.0\u001b[0m\n",
      "\u001b[1m[\u001b[0m\u001b[34;49mnotice\u001b[0m\u001b[1;39;49m]\u001b[0m\u001b[39;49m To update, run: \u001b[0m\u001b[32;49mpip install --upgrade pip\u001b[0m\n"
     ]
    }
   ],
   "source": [
    "!pip install -q \"openvino>=2023.1.0\" onnx\n",
    "!pip install opencv-python==4.8.1.78\n",
    "!pip install onnxruntime==1.16.0"
   ]
  },
  {
   "cell_type": "code",
   "execution_count": 2,
   "id": "f836360f-84ad-4cb5-837f-41bcd022e04d",
   "metadata": {},
   "outputs": [],
   "source": [
    "import os\n",
    "import cv2\n",
    "from matplotlib import pyplot as plt\n",
    "from PIL import Image\n",
    "import onnxruntime as rt\n",
    "import numpy as np\n",
    "import openvino as ov"
   ]
  },
  {
   "cell_type": "code",
   "execution_count": 3,
   "id": "9663e7b9-70d2-43ac-bd0f-a3fbdab603d2",
   "metadata": {},
   "outputs": [],
   "source": [
    "#import remote_infer as ri\n",
    "import remote_infer_changed_preprocessing as ri"
   ]
  },
  {
   "cell_type": "code",
   "execution_count": 4,
   "id": "60f99747-d7d6-42ca-be82-ad92f51e96bc",
   "metadata": {},
   "outputs": [],
   "source": [
    "image_path = 'images/carImage3.jpg' # You can replace this with an image you upload"
   ]
  },
  {
   "cell_type": "code",
   "execution_count": 5,
   "id": "89939f15-f74e-49d2-b131-02f5a70b50f1",
   "metadata": {
    "tags": []
   },
   "outputs": [],
   "source": [
    "preprocessed, scale, original_image = ri.preprocess(image_path)"
   ]
  },
  {
   "cell_type": "markdown",
   "id": "e5be0f0e-c863-4a55-b8dd-2fc1c71e0a3d",
   "metadata": {},
   "source": [
    "# Serving"
   ]
  },
  {
   "cell_type": "code",
   "execution_count": 6,
   "id": "c2f3b9a5-f158-493c-ac5d-10154bae1974",
   "metadata": {
    "tags": []
   },
   "outputs": [],
   "source": [
    "infer_url = os.environ[\"INFER_ENDPOINT\"]\n",
    "\n",
    "response = ri.send_request(preprocessed, infer_url)"
   ]
  },
  {
   "cell_type": "code",
   "execution_count": 7,
   "id": "c054b10f-9453-4012-b57b-ed0a1d65501e",
   "metadata": {
    "tags": []
   },
   "outputs": [
    {
     "name": "stdout",
     "output_type": "stream",
     "text": [
      "(8400, 6)\n",
      "[[7.25182250e+00 1.59619200e+01 1.59490360e+01 3.18928570e+01\n",
      "  2.77792900e-06 8.99698350e-06]\n",
      " [2.54508700e+01 1.32270820e+01 5.91368030e+01 2.61576290e+01\n",
      "  1.19057480e-06 9.94917500e-06]\n",
      " [1.81783560e+01 1.16864980e+01 4.00377120e+01 2.24915900e+01\n",
      "  3.50209300e-07 4.00328800e-06]\n",
      " ...\n",
      " [5.63258540e+02 6.07380500e+02 1.35587590e+02 6.58579100e+01\n",
      "  2.88683740e-06 3.79249760e-06]\n",
      " [5.84164300e+02 5.98486000e+02 1.04063416e+02 8.50695800e+01\n",
      "  2.83189700e-06 3.47373320e-06]\n",
      " [6.00892500e+02 5.86694700e+02 9.20753200e+01 1.19198730e+02\n",
      "  4.63818740e-06 7.07730670e-06]]\n"
     ]
    }
   ],
   "source": [
    "response_transposed = cv2.transpose(response[0].squeeze())\n",
    "print(response_transposed.shape)\n",
    "print(response_transposed)"
   ]
  },
  {
   "cell_type": "markdown",
   "id": "1d4101de-1b22-421f-9e51-17d2a02a8430",
   "metadata": {},
   "source": [
    "# Session"
   ]
  },
  {
   "cell_type": "code",
   "execution_count": 8,
   "id": "c774d726-4dd3-4f16-9fb5-811adcfa2ef7",
   "metadata": {},
   "outputs": [],
   "source": [
    "ir_path = \"ir_model/accident_detect.xml\"\n",
    "onnx_path = \"accident_detect.onnx\""
   ]
  },
  {
   "cell_type": "markdown",
   "id": "0577190e-91b4-4d02-a6e4-e6eba252efe0",
   "metadata": {},
   "source": [
    "### IR"
   ]
  },
  {
   "cell_type": "code",
   "execution_count": 9,
   "id": "94a2c4d2-8579-47d9-80d3-0f6112cfee73",
   "metadata": {
    "tags": []
   },
   "outputs": [],
   "source": [
    "core = ov.Core()\n",
    "model_ir = core.read_model(model=ir_path)"
   ]
  },
  {
   "cell_type": "code",
   "execution_count": 10,
   "id": "5b884647-b994-401f-8184-b39140db6fd6",
   "metadata": {},
   "outputs": [],
   "source": [
    "compiled_model_ir = core.compile_model(model=model_ir)\n",
    "output_layer_ir = compiled_model_ir.output(0)\n",
    "res_ir = compiled_model_ir([preprocessed])[output_layer_ir]"
   ]
  },
  {
   "cell_type": "code",
   "execution_count": 11,
   "id": "351e4e43-49f3-4f10-8ebe-2aa683487430",
   "metadata": {
    "tags": []
   },
   "outputs": [
    {
     "name": "stdout",
     "output_type": "stream",
     "text": [
      "(8400, 6)\n",
      "[[7.2539897e+00 1.5953136e+01 1.5954377e+01 3.1875458e+01 2.7781566e-06\n",
      "  9.0011354e-06]\n",
      " [2.5465382e+01 1.3217645e+01 5.9175644e+01 2.6138700e+01 1.1910745e-06\n",
      "  9.9561221e-06]\n",
      " [1.8183857e+01 1.1681372e+01 4.0054626e+01 2.2481430e+01 3.5050101e-07\n",
      "  4.0072487e-06]\n",
      " ...\n",
      " [5.6326550e+02 6.0738074e+02 1.3555197e+02 6.5856018e+01 2.8873769e-06\n",
      "  3.7926243e-06]\n",
      " [5.8416711e+02 5.9849036e+02 1.0404614e+02 8.5058167e+01 2.8326183e-06\n",
      "  3.4742102e-06]\n",
      " [6.0090088e+02 5.8670398e+02 9.2063293e+01 1.1916858e+02 4.6395808e-06\n",
      "  7.0787241e-06]]\n"
     ]
    }
   ],
   "source": [
    "ir_sess_prediction_transposed = cv2.transpose(res_ir[0].squeeze())\n",
    "print(ir_sess_prediction_transposed.shape)\n",
    "print(ir_sess_prediction_transposed)"
   ]
  },
  {
   "cell_type": "markdown",
   "id": "78ee46b5-3b39-4e45-844f-a475ef7ad0c2",
   "metadata": {},
   "source": [
    "### ONNX"
   ]
  },
  {
   "cell_type": "code",
   "execution_count": 12,
   "id": "46d9e5f3-86c2-45c1-8902-43a8af1708e6",
   "metadata": {
    "tags": []
   },
   "outputs": [],
   "source": [
    "core = ov.Core()\n",
    "model_onnx = core.read_model(model=onnx_path)"
   ]
  },
  {
   "cell_type": "code",
   "execution_count": 13,
   "id": "3f7799b0-54e0-4712-b2ea-2ec59de93cff",
   "metadata": {
    "tags": []
   },
   "outputs": [],
   "source": [
    "compiled_model_onnx = core.compile_model(model=model_onnx)\n",
    "res_onnx = compiled_model_onnx([preprocessed])[0]"
   ]
  },
  {
   "cell_type": "code",
   "execution_count": 14,
   "id": "31ab0e4a-1ae3-45de-9927-b1b7de0aecb8",
   "metadata": {
    "tags": []
   },
   "outputs": [
    {
     "name": "stdout",
     "output_type": "stream",
     "text": [
      "(8400, 6)\n",
      "[[7.25182247e+00 1.59619198e+01 1.59490356e+01 3.18928566e+01\n",
      "  2.77792901e-06 8.99698352e-06]\n",
      " [2.54508705e+01 1.32270823e+01 5.91368027e+01 2.61576290e+01\n",
      "  1.19057484e-06 9.94917536e-06]\n",
      " [1.81783562e+01 1.16864977e+01 4.00377121e+01 2.24915905e+01\n",
      "  3.50209291e-07 4.00328781e-06]\n",
      " ...\n",
      " [5.63258545e+02 6.07380493e+02 1.35587585e+02 6.58579102e+01\n",
      "  2.88683464e-06 3.79249764e-06]\n",
      " [5.84164307e+02 5.98486023e+02 1.04063416e+02 8.50695801e+01\n",
      "  2.83189706e-06 3.47373657e-06]\n",
      " [6.00892517e+02 5.86694702e+02 9.20753174e+01 1.19198730e+02\n",
      "  4.63818287e-06 7.07729987e-06]]\n"
     ]
    }
   ],
   "source": [
    "onnx_sess_prediction_transposed = cv2.transpose(res_onnx[0].squeeze())\n",
    "print(onnx_sess_prediction_transposed.shape)\n",
    "print(onnx_sess_prediction_transposed)"
   ]
  },
  {
   "cell_type": "markdown",
   "id": "2f6d5804-bae0-4ddf-8ca3-3638e736a8fb",
   "metadata": {},
   "source": [
    "# Compare them"
   ]
  },
  {
   "cell_type": "markdown",
   "id": "f49250f7-91e5-4da6-899b-7c8a8db3e33e",
   "metadata": {},
   "source": [
    "### IR"
   ]
  },
  {
   "cell_type": "code",
   "execution_count": 15,
   "id": "9c973454-2cf4-4e7d-aaa8-69b158f21135",
   "metadata": {},
   "outputs": [
    {
     "name": "stdout",
     "output_type": "stream",
     "text": [
      "Row 0:\n",
      "  Col 0: 7.2518225 (rest_prediction) vs 7.2539896965026855 (ir_sess_prediction) - Difference:  0.0021671965026852646\n",
      "  Col 1: 15.96192 (rest_prediction) vs 15.953136444091797 (ir_sess_prediction) - Difference:  0.008783555908202345\n",
      "  Col 2: 15.949036 (rest_prediction) vs 15.954377174377441 (ir_sess_prediction) - Difference:  0.00534117437744186\n",
      "  Col 3: 31.892857 (rest_prediction) vs 31.875457763671875 (ir_sess_prediction) - Difference:  0.017399236328124346\n",
      "  Col 4: 2.777929e-06 (rest_prediction) vs 2.778156613203464e-06 (ir_sess_prediction) - Difference:  2.2761320346421544e-10\n",
      "  Col 5: 8.9969835e-06 (rest_prediction) vs 9.00113536772551e-06 (ir_sess_prediction) - Difference:  4.151867725509862e-09\n",
      "Row 1:\n",
      "  Col 0: 25.45087 (rest_prediction) vs 25.465381622314453 (ir_sess_prediction) - Difference:  0.014511622314454797\n",
      "  Col 1: 13.227082 (rest_prediction) vs 13.217644691467285 (ir_sess_prediction) - Difference:  0.009437308532714184\n",
      "  Col 2: 59.136803 (rest_prediction) vs 59.17564392089844 (ir_sess_prediction) - Difference:  0.03884092089843705\n",
      "  Col 3: 26.157629 (rest_prediction) vs 26.138700485229492 (ir_sess_prediction) - Difference:  0.01892851477050783\n",
      "  Col 4: 1.1905748e-06 (rest_prediction) vs 1.1910744888155023e-06 (ir_sess_prediction) - Difference:  4.996888155023221e-10\n",
      "  Col 5: 9.949175e-06 (rest_prediction) vs 9.956122084986418e-06 (ir_sess_prediction) - Difference:  6.947084986418998e-09\n",
      "Row 2:\n",
      "  Col 0: 18.178356 (rest_prediction) vs 18.183856964111328 (ir_sess_prediction) - Difference:  0.005500964111327278\n",
      "  Col 1: 11.686498 (rest_prediction) vs 11.681371688842773 (ir_sess_prediction) - Difference:  0.005126311157226837\n",
      "  Col 2: 40.037712 (rest_prediction) vs 40.05462646484375 (ir_sess_prediction) - Difference:  0.01691446484375092\n",
      "  Col 3: 22.49159 (rest_prediction) vs 22.481430053710938 (ir_sess_prediction) - Difference:  0.01015994628906114\n",
      "  Col 4: 3.502093e-07 (rest_prediction) vs 3.505010113258322e-07 (ir_sess_prediction) - Difference:  2.9171132583221114e-10\n",
      "  Col 5: 4.003288e-06 (rest_prediction) vs 4.007248662674101e-06 (ir_sess_prediction) - Difference:  3.960662674101122e-09\n",
      "Row 3:\n",
      "  Col 0: 26.905014 (rest_prediction) vs 26.914554595947266 (ir_sess_prediction) - Difference:  0.009540595947264308\n",
      "  Col 1: 12.027281 (rest_prediction) vs 12.023856163024902 (ir_sess_prediction) - Difference:  0.003424836975097989\n",
      "  Col 2: 52.395493 (rest_prediction) vs 52.4144287109375 (ir_sess_prediction) - Difference:  0.01893571093749813\n",
      "  Col 3: 23.819248 (rest_prediction) vs 23.812402725219727 (ir_sess_prediction) - Difference:  0.00684527478027519\n",
      "  Col 4: 3.374797e-07 (rest_prediction) vs 3.378284532118414e-07 (ir_sess_prediction) - Difference:  3.4875321184140753e-10\n",
      "  Col 5: 4.6814175e-06 (rest_prediction) vs 4.685906333179446e-06 (ir_sess_prediction) - Difference:  4.488833179445794e-09\n",
      "Row 4:\n",
      "  Col 0: 50.76188 (rest_prediction) vs 50.760765075683594 (ir_sess_prediction) - Difference:  0.0011149243164041422\n",
      "  Col 1: 11.393678 (rest_prediction) vs 11.391223907470703 (ir_sess_prediction) - Difference:  0.0024540925292964033\n",
      "  Col 2: 109.43291 (rest_prediction) vs 109.43630981445312 (ir_sess_prediction) - Difference:  0.0033998144531182106\n",
      "  Col 3: 22.714525 (rest_prediction) vs 22.709819793701172 (ir_sess_prediction) - Difference:  0.004705206298826425\n",
      "  Col 4: 1.0910605e-06 (rest_prediction) vs 1.0921818329734378e-06 (ir_sess_prediction) - Difference:  1.1213329734377524e-09\n",
      "  Col 5: 7.829481e-06 (rest_prediction) vs 7.83644281909801e-06 (ir_sess_prediction) - Difference:  6.961819098010803e-09\n"
     ]
    }
   ],
   "source": [
    "def compare_2d_arrays(arr1, arr2):\n",
    "    # Ensure arr1 and arr2 have the same shape\n",
    "    if arr1.shape != arr2.shape:\n",
    "        raise ValueError(\"Arrays must have the same shape\")\n",
    "    \n",
    "    differences = []  # List to store differences for each row\n",
    "    \n",
    "    # Iterate over each row\n",
    "    for row_idx in range(arr1.shape[0]):\n",
    "        row_differences = []  # Differences for the current row\n",
    "        for col_idx in range(arr1.shape[1]):\n",
    "            item1 = arr1[row_idx, col_idx]\n",
    "            item2 = arr2[row_idx, col_idx]\n",
    "            diff = abs(item1 - item2)  # Calculate the absolute difference\n",
    "            row_differences.append((col_idx, item1, item2, diff))\n",
    "        \n",
    "        differences.append(row_differences)\n",
    "    \n",
    "    return differences\n",
    "\n",
    "# Comparing the arrays\n",
    "differences = compare_2d_arrays(response_transposed, ir_sess_prediction_transposed)\n",
    "\n",
    "# Optionally, print the results for the first few rows to check\n",
    "for row_idx, row_diff in enumerate(differences[:5]):  # Just as an example, print differences for the first 5 rows\n",
    "    print(f\"Row {row_idx}:\")\n",
    "    for diff in row_diff:\n",
    "        print(f\"  Col {diff[0]}: {diff[1]} (rest_prediction) vs {diff[2]} (ir_sess_prediction) - Difference:  {diff[3]}\")"
   ]
  },
  {
   "cell_type": "markdown",
   "id": "d6411ee9-ee75-447f-a383-ee898c684882",
   "metadata": {
    "tags": []
   },
   "source": [
    "### ONNX"
   ]
  },
  {
   "cell_type": "code",
   "execution_count": 16,
   "id": "5a91f3b1-67d9-41ee-af5f-ef0dc6b35f83",
   "metadata": {
    "tags": []
   },
   "outputs": [
    {
     "name": "stdout",
     "output_type": "stream",
     "text": [
      "Row 0:\n",
      "  Col 0: 7.2518225 (rest_prediction) vs 7.251822471618652 (onnx_sess_prediction) - Difference:  2.8381347938477575e-08\n",
      "  Col 1: 15.96192 (rest_prediction) vs 15.961919784545898 (onnx_sess_prediction) - Difference:  2.154541007826083e-07\n",
      "  Col 2: 15.949036 (rest_prediction) vs 15.94903564453125 (onnx_sess_prediction) - Difference:  3.554687495466169e-07\n",
      "  Col 3: 31.892857 (rest_prediction) vs 31.89285659790039 (onnx_sess_prediction) - Difference:  4.0209960872061856e-07\n",
      "  Col 4: 2.777929e-06 (rest_prediction) vs 2.7779290121543454e-06 (onnx_sess_prediction) - Difference:  1.2154345540145656e-14\n",
      "  Col 5: 8.9969835e-06 (rest_prediction) vs 8.996983524411917e-06 (onnx_sess_prediction) - Difference:  2.4411916444474352e-14\n",
      "Row 1:\n",
      "  Col 0: 25.45087 (rest_prediction) vs 25.450870513916016 (onnx_sess_prediction) - Difference:  5.139160172973334e-07\n",
      "  Col 1: 13.227082 (rest_prediction) vs 13.227082252502441 (onnx_sess_prediction) - Difference:  2.525024420663158e-07\n",
      "  Col 2: 59.136803 (rest_prediction) vs 59.136802673339844 (onnx_sess_prediction) - Difference:  3.2666015670201887e-07\n",
      "  Col 3: 26.157629 (rest_prediction) vs 26.157629013061523 (onnx_sess_prediction) - Difference:  1.3061523418400611e-08\n",
      "  Col 4: 1.1905748e-06 (rest_prediction) vs 1.1905748351637158e-06 (onnx_sess_prediction) - Difference:  3.5163715819677894e-14\n",
      "  Col 5: 9.949175e-06 (rest_prediction) vs 9.949175364454277e-06 (onnx_sess_prediction) - Difference:  3.6445427737199793e-13\n",
      "Row 2:\n",
      "  Col 0: 18.178356 (rest_prediction) vs 18.178356170654297 (onnx_sess_prediction) - Difference:  1.7065429602780569e-07\n",
      "  Col 1: 11.686498 (rest_prediction) vs 11.686497688293457 (onnx_sess_prediction) - Difference:  3.117065432434174e-07\n",
      "  Col 2: 40.037712 (rest_prediction) vs 40.03771209716797 (onnx_sess_prediction) - Difference:  9.716796967040864e-08\n",
      "  Col 3: 22.49159 (rest_prediction) vs 22.49159049987793 (onnx_sess_prediction) - Difference:  4.998779310483314e-07\n",
      "  Col 4: 3.502093e-07 (rest_prediction) vs 3.5020929090023856e-07 (onnx_sess_prediction) - Difference:  9.099761455592687e-15\n",
      "  Col 5: 4.003288e-06 (rest_prediction) vs 4.00328781324788e-06 (onnx_sess_prediction) - Difference:  1.8675211998033826e-13\n",
      "Row 3:\n",
      "  Col 0: 26.905014 (rest_prediction) vs 26.905014038085938 (onnx_sess_prediction) - Difference:  3.8085936182596924e-08\n",
      "  Col 1: 12.027281 (rest_prediction) vs 12.027280807495117 (onnx_sess_prediction) - Difference:  1.9250488314526137e-07\n",
      "  Col 2: 52.395493 (rest_prediction) vs 52.39549255371094 (onnx_sess_prediction) - Difference:  4.462890643708306e-07\n",
      "  Col 3: 23.819248 (rest_prediction) vs 23.81924819946289 (onnx_sess_prediction) - Difference:  1.994628888724037e-07\n",
      "  Col 4: 3.374797e-07 (rest_prediction) vs 3.374796904154209e-07 (onnx_sess_prediction) - Difference:  9.58457908004117e-15\n",
      "  Col 5: 4.6814175e-06 (rest_prediction) vs 4.681417522078846e-06 (onnx_sess_prediction) - Difference:  2.2078845506425318e-14\n",
      "Row 4:\n",
      "  Col 0: 50.76188 (rest_prediction) vs 50.761878967285156 (onnx_sess_prediction) - Difference:  1.032714841642246e-06\n",
      "  Col 1: 11.393678 (rest_prediction) vs 11.393677711486816 (onnx_sess_prediction) - Difference:  2.885131831220633e-07\n",
      "  Col 2: 109.43291 (rest_prediction) vs 109.43290710449219 (onnx_sess_prediction) - Difference:  2.895507819289378e-06\n",
      "  Col 3: 22.714525 (rest_prediction) vs 22.71452522277832 (onnx_sess_prediction) - Difference:  2.2277832201211822e-07\n",
      "  Col 4: 1.0910605e-06 (rest_prediction) vs 1.0910605396929896e-06 (onnx_sess_prediction) - Difference:  3.96929894534774e-14\n",
      "  Col 5: 7.829481e-06 (rest_prediction) vs 7.829480637155939e-06 (onnx_sess_prediction) - Difference:  3.6284406096300393e-13\n"
     ]
    }
   ],
   "source": [
    "def compare_2d_arrays(arr1, arr2):\n",
    "    # Ensure arr1 and arr2 have the same shape\n",
    "    if arr1.shape != arr2.shape:\n",
    "        raise ValueError(\"Arrays must have the same shape\")\n",
    "    \n",
    "    differences = []  # List to store differences for each row\n",
    "    \n",
    "    # Iterate over each row\n",
    "    for row_idx in range(arr1.shape[0]):\n",
    "        row_differences = []  # Differences for the current row\n",
    "        for col_idx in range(arr1.shape[1]):\n",
    "            item1 = arr1[row_idx, col_idx]\n",
    "            item2 = arr2[row_idx, col_idx]\n",
    "            diff = abs(item1 - item2)  # Calculate the absolute difference\n",
    "            row_differences.append((col_idx, item1, item2, diff))\n",
    "        \n",
    "        differences.append(row_differences)\n",
    "    \n",
    "    return differences\n",
    "\n",
    "# Comparing the arrays\n",
    "differences = compare_2d_arrays(response_transposed, onnx_sess_prediction_transposed)\n",
    "\n",
    "# Optionally, print the results for the first few rows to check\n",
    "for row_idx, row_diff in enumerate(differences[:5]):  # Just as an example, print differences for the first 5 rows\n",
    "    print(f\"Row {row_idx}:\")\n",
    "    for diff in row_diff:\n",
    "        print(f\"  Col {diff[0]}: {diff[1]} (rest_prediction) vs {diff[2]} (onnx_sess_prediction) - Difference:  {diff[3]}\")\n"
   ]
  }
 ],
 "metadata": {
  "kernelspec": {
   "display_name": "Python 3.9",
   "language": "python",
   "name": "python3"
  },
  "language_info": {
   "codemirror_mode": {
    "name": "ipython",
    "version": 3
   },
   "file_extension": ".py",
   "mimetype": "text/x-python",
   "name": "python",
   "nbconvert_exporter": "python",
   "pygments_lexer": "ipython3",
   "version": "3.9.18"
  }
 },
 "nbformat": 4,
 "nbformat_minor": 5
}
